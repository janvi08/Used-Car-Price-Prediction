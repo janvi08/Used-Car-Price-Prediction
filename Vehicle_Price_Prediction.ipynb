{
  "cells": [
    {
      "attachments": {},
      "cell_type": "markdown",
      "metadata": {
        "id": "5HuGiSuB42eF"
      },
      "source": [
        "## **IMPORTING ALL MODULES**"
      ]
    },
    {
      "cell_type": "code",
      "execution_count": 1,
      "metadata": {
        "id": "vPrjUXj15BJ0"
      },
      "outputs": [],
      "source": [
        "import pandas as pd\n",
        "import numpy as np\n",
        "import tensorflow as tf\n",
        "import seaborn as sns\n",
        "import matplotlib.pyplot as plt\n",
        "\n",
        "from sklearn.preprocessing import LabelEncoder\n",
        "from sklearn.model_selection import train_test_split, cross_val_score, GridSearchCV, StratifiedKFold\n",
        "from sklearn.preprocessing import StandardScaler\n",
        "from sklearn.metrics import mean_absolute_error,r2_score,mean_squared_error\n",
        "from sklearn.linear_model import LinearRegression\n",
        "from sklearn.svm import SVR\n",
        "from sklearn.ensemble import RandomForestRegressor, GradientBoostingRegressor, ExtraTreesRegressor \n",
        "import xgboost as xgb\n",
        "import lightgbm as lgb\n",
        "from keras.models import Sequential\n",
        "from keras.layers import LSTM\n",
        "from keras.layers import Dropout\n",
        "from keras.layers import Dense"
      ]
    },
    {
      "attachments": {},
      "cell_type": "markdown",
      "metadata": {
        "id": "pg3c8hfK6qTq"
      },
      "source": [
        "## **MOUNTING GOOGLE DRIVE**"
      ]
    },
    {
      "cell_type": "code",
      "execution_count": 2,
      "metadata": {
        "colab": {
          "base_uri": "https://localhost:8080/"
        },
        "id": "rBmvs4wF6WJw",
        "outputId": "8a5c6141-5bdd-47cf-a2ce-cc640760554a"
      },
      "outputs": [
        {
          "name": "stdout",
          "output_type": "stream",
          "text": [
            "Drive already mounted at /content/drive; to attempt to forcibly remount, call drive.mount(\"/content/drive\", force_remount=True).\n"
          ]
        }
      ],
      "source": [
        "from google.colab import drive\n",
        "drive.mount('/content/drive')"
      ]
    },
    {
      "attachments": {},
      "cell_type": "markdown",
      "metadata": {
        "id": "xkIrRUfa642_"
      },
      "source": [
        "## **LOADING THE CSV FILE INTO THE DATAFRAME**"
      ]
    },
    {
      "cell_type": "code",
      "execution_count": 3,
      "metadata": {
        "colab": {
          "base_uri": "https://localhost:8080/",
          "height": 334
        },
        "id": "6tJSu5mE6yaA",
        "outputId": "aaef1e0f-7324-4e3d-b802-25704b3fca3b"
      },
      "outputs": [
        {
          "data": {
            "text/html": [
              "\n",
              "  <div id=\"df-553936a1-1724-4bf6-bf56-4d67d9a63947\">\n",
              "    <div class=\"colab-df-container\">\n",
              "      <div>\n",
              "<style scoped>\n",
              "    .dataframe tbody tr th:only-of-type {\n",
              "        vertical-align: middle;\n",
              "    }\n",
              "\n",
              "    .dataframe tbody tr th {\n",
              "        vertical-align: top;\n",
              "    }\n",
              "\n",
              "    .dataframe thead th {\n",
              "        text-align: right;\n",
              "    }\n",
              "</style>\n",
              "<table border=\"1\" class=\"dataframe\">\n",
              "  <thead>\n",
              "    <tr style=\"text-align: right;\">\n",
              "      <th></th>\n",
              "      <th>id</th>\n",
              "      <th>url</th>\n",
              "      <th>region</th>\n",
              "      <th>region_url</th>\n",
              "      <th>price</th>\n",
              "      <th>year</th>\n",
              "      <th>manufacturer</th>\n",
              "      <th>model</th>\n",
              "      <th>condition</th>\n",
              "      <th>cylinders</th>\n",
              "      <th>...</th>\n",
              "      <th>size</th>\n",
              "      <th>type</th>\n",
              "      <th>paint_color</th>\n",
              "      <th>image_url</th>\n",
              "      <th>description</th>\n",
              "      <th>county</th>\n",
              "      <th>state</th>\n",
              "      <th>lat</th>\n",
              "      <th>long</th>\n",
              "      <th>posting_date</th>\n",
              "    </tr>\n",
              "  </thead>\n",
              "  <tbody>\n",
              "    <tr>\n",
              "      <th>0</th>\n",
              "      <td>7222695916</td>\n",
              "      <td>https://prescott.craigslist.org/cto/d/prescott...</td>\n",
              "      <td>prescott</td>\n",
              "      <td>https://prescott.craigslist.org</td>\n",
              "      <td>6000</td>\n",
              "      <td>NaN</td>\n",
              "      <td>NaN</td>\n",
              "      <td>NaN</td>\n",
              "      <td>NaN</td>\n",
              "      <td>NaN</td>\n",
              "      <td>...</td>\n",
              "      <td>NaN</td>\n",
              "      <td>NaN</td>\n",
              "      <td>NaN</td>\n",
              "      <td>NaN</td>\n",
              "      <td>NaN</td>\n",
              "      <td>NaN</td>\n",
              "      <td>az</td>\n",
              "      <td>NaN</td>\n",
              "      <td>NaN</td>\n",
              "      <td>NaN</td>\n",
              "    </tr>\n",
              "    <tr>\n",
              "      <th>1</th>\n",
              "      <td>7218891961</td>\n",
              "      <td>https://fayar.craigslist.org/ctd/d/bentonville...</td>\n",
              "      <td>fayetteville</td>\n",
              "      <td>https://fayar.craigslist.org</td>\n",
              "      <td>11900</td>\n",
              "      <td>NaN</td>\n",
              "      <td>NaN</td>\n",
              "      <td>NaN</td>\n",
              "      <td>NaN</td>\n",
              "      <td>NaN</td>\n",
              "      <td>...</td>\n",
              "      <td>NaN</td>\n",
              "      <td>NaN</td>\n",
              "      <td>NaN</td>\n",
              "      <td>NaN</td>\n",
              "      <td>NaN</td>\n",
              "      <td>NaN</td>\n",
              "      <td>ar</td>\n",
              "      <td>NaN</td>\n",
              "      <td>NaN</td>\n",
              "      <td>NaN</td>\n",
              "    </tr>\n",
              "    <tr>\n",
              "      <th>2</th>\n",
              "      <td>7221797935</td>\n",
              "      <td>https://keys.craigslist.org/cto/d/summerland-k...</td>\n",
              "      <td>florida keys</td>\n",
              "      <td>https://keys.craigslist.org</td>\n",
              "      <td>21000</td>\n",
              "      <td>NaN</td>\n",
              "      <td>NaN</td>\n",
              "      <td>NaN</td>\n",
              "      <td>NaN</td>\n",
              "      <td>NaN</td>\n",
              "      <td>...</td>\n",
              "      <td>NaN</td>\n",
              "      <td>NaN</td>\n",
              "      <td>NaN</td>\n",
              "      <td>NaN</td>\n",
              "      <td>NaN</td>\n",
              "      <td>NaN</td>\n",
              "      <td>fl</td>\n",
              "      <td>NaN</td>\n",
              "      <td>NaN</td>\n",
              "      <td>NaN</td>\n",
              "    </tr>\n",
              "    <tr>\n",
              "      <th>3</th>\n",
              "      <td>7222270760</td>\n",
              "      <td>https://worcester.craigslist.org/cto/d/west-br...</td>\n",
              "      <td>worcester / central MA</td>\n",
              "      <td>https://worcester.craigslist.org</td>\n",
              "      <td>1500</td>\n",
              "      <td>NaN</td>\n",
              "      <td>NaN</td>\n",
              "      <td>NaN</td>\n",
              "      <td>NaN</td>\n",
              "      <td>NaN</td>\n",
              "      <td>...</td>\n",
              "      <td>NaN</td>\n",
              "      <td>NaN</td>\n",
              "      <td>NaN</td>\n",
              "      <td>NaN</td>\n",
              "      <td>NaN</td>\n",
              "      <td>NaN</td>\n",
              "      <td>ma</td>\n",
              "      <td>NaN</td>\n",
              "      <td>NaN</td>\n",
              "      <td>NaN</td>\n",
              "    </tr>\n",
              "    <tr>\n",
              "      <th>4</th>\n",
              "      <td>7210384030</td>\n",
              "      <td>https://greensboro.craigslist.org/cto/d/trinit...</td>\n",
              "      <td>greensboro</td>\n",
              "      <td>https://greensboro.craigslist.org</td>\n",
              "      <td>4900</td>\n",
              "      <td>NaN</td>\n",
              "      <td>NaN</td>\n",
              "      <td>NaN</td>\n",
              "      <td>NaN</td>\n",
              "      <td>NaN</td>\n",
              "      <td>...</td>\n",
              "      <td>NaN</td>\n",
              "      <td>NaN</td>\n",
              "      <td>NaN</td>\n",
              "      <td>NaN</td>\n",
              "      <td>NaN</td>\n",
              "      <td>NaN</td>\n",
              "      <td>nc</td>\n",
              "      <td>NaN</td>\n",
              "      <td>NaN</td>\n",
              "      <td>NaN</td>\n",
              "    </tr>\n",
              "  </tbody>\n",
              "</table>\n",
              "<p>5 rows × 26 columns</p>\n",
              "</div>\n",
              "      <button class=\"colab-df-convert\" onclick=\"convertToInteractive('df-553936a1-1724-4bf6-bf56-4d67d9a63947')\"\n",
              "              title=\"Convert this dataframe to an interactive table.\"\n",
              "              style=\"display:none;\">\n",
              "        \n",
              "  <svg xmlns=\"http://www.w3.org/2000/svg\" height=\"24px\"viewBox=\"0 0 24 24\"\n",
              "       width=\"24px\">\n",
              "    <path d=\"M0 0h24v24H0V0z\" fill=\"none\"/>\n",
              "    <path d=\"M18.56 5.44l.94 2.06.94-2.06 2.06-.94-2.06-.94-.94-2.06-.94 2.06-2.06.94zm-11 1L8.5 8.5l.94-2.06 2.06-.94-2.06-.94L8.5 2.5l-.94 2.06-2.06.94zm10 10l.94 2.06.94-2.06 2.06-.94-2.06-.94-.94-2.06-.94 2.06-2.06.94z\"/><path d=\"M17.41 7.96l-1.37-1.37c-.4-.4-.92-.59-1.43-.59-.52 0-1.04.2-1.43.59L10.3 9.45l-7.72 7.72c-.78.78-.78 2.05 0 2.83L4 21.41c.39.39.9.59 1.41.59.51 0 1.02-.2 1.41-.59l7.78-7.78 2.81-2.81c.8-.78.8-2.07 0-2.86zM5.41 20L4 18.59l7.72-7.72 1.47 1.35L5.41 20z\"/>\n",
              "  </svg>\n",
              "      </button>\n",
              "      \n",
              "  <style>\n",
              "    .colab-df-container {\n",
              "      display:flex;\n",
              "      flex-wrap:wrap;\n",
              "      gap: 12px;\n",
              "    }\n",
              "\n",
              "    .colab-df-convert {\n",
              "      background-color: #E8F0FE;\n",
              "      border: none;\n",
              "      border-radius: 50%;\n",
              "      cursor: pointer;\n",
              "      display: none;\n",
              "      fill: #1967D2;\n",
              "      height: 32px;\n",
              "      padding: 0 0 0 0;\n",
              "      width: 32px;\n",
              "    }\n",
              "\n",
              "    .colab-df-convert:hover {\n",
              "      background-color: #E2EBFA;\n",
              "      box-shadow: 0px 1px 2px rgba(60, 64, 67, 0.3), 0px 1px 3px 1px rgba(60, 64, 67, 0.15);\n",
              "      fill: #174EA6;\n",
              "    }\n",
              "\n",
              "    [theme=dark] .colab-df-convert {\n",
              "      background-color: #3B4455;\n",
              "      fill: #D2E3FC;\n",
              "    }\n",
              "\n",
              "    [theme=dark] .colab-df-convert:hover {\n",
              "      background-color: #434B5C;\n",
              "      box-shadow: 0px 1px 3px 1px rgba(0, 0, 0, 0.15);\n",
              "      filter: drop-shadow(0px 1px 2px rgba(0, 0, 0, 0.3));\n",
              "      fill: #FFFFFF;\n",
              "    }\n",
              "  </style>\n",
              "\n",
              "      <script>\n",
              "        const buttonEl =\n",
              "          document.querySelector('#df-553936a1-1724-4bf6-bf56-4d67d9a63947 button.colab-df-convert');\n",
              "        buttonEl.style.display =\n",
              "          google.colab.kernel.accessAllowed ? 'block' : 'none';\n",
              "\n",
              "        async function convertToInteractive(key) {\n",
              "          const element = document.querySelector('#df-553936a1-1724-4bf6-bf56-4d67d9a63947');\n",
              "          const dataTable =\n",
              "            await google.colab.kernel.invokeFunction('convertToInteractive',\n",
              "                                                     [key], {});\n",
              "          if (!dataTable) return;\n",
              "\n",
              "          const docLinkHtml = 'Like what you see? Visit the ' +\n",
              "            '<a target=\"_blank\" href=https://colab.research.google.com/notebooks/data_table.ipynb>data table notebook</a>'\n",
              "            + ' to learn more about interactive tables.';\n",
              "          element.innerHTML = '';\n",
              "          dataTable['output_type'] = 'display_data';\n",
              "          await google.colab.output.renderOutput(dataTable, element);\n",
              "          const docLink = document.createElement('div');\n",
              "          docLink.innerHTML = docLinkHtml;\n",
              "          element.appendChild(docLink);\n",
              "        }\n",
              "      </script>\n",
              "    </div>\n",
              "  </div>\n",
              "  "
            ],
            "text/plain": [
              "           id                                                url  \\\n",
              "0  7222695916  https://prescott.craigslist.org/cto/d/prescott...   \n",
              "1  7218891961  https://fayar.craigslist.org/ctd/d/bentonville...   \n",
              "2  7221797935  https://keys.craigslist.org/cto/d/summerland-k...   \n",
              "3  7222270760  https://worcester.craigslist.org/cto/d/west-br...   \n",
              "4  7210384030  https://greensboro.craigslist.org/cto/d/trinit...   \n",
              "\n",
              "                   region                         region_url  price  year  \\\n",
              "0                prescott    https://prescott.craigslist.org   6000   NaN   \n",
              "1            fayetteville       https://fayar.craigslist.org  11900   NaN   \n",
              "2            florida keys        https://keys.craigslist.org  21000   NaN   \n",
              "3  worcester / central MA   https://worcester.craigslist.org   1500   NaN   \n",
              "4              greensboro  https://greensboro.craigslist.org   4900   NaN   \n",
              "\n",
              "  manufacturer model condition cylinders  ... size  type paint_color  \\\n",
              "0          NaN   NaN       NaN       NaN  ...  NaN   NaN         NaN   \n",
              "1          NaN   NaN       NaN       NaN  ...  NaN   NaN         NaN   \n",
              "2          NaN   NaN       NaN       NaN  ...  NaN   NaN         NaN   \n",
              "3          NaN   NaN       NaN       NaN  ...  NaN   NaN         NaN   \n",
              "4          NaN   NaN       NaN       NaN  ...  NaN   NaN         NaN   \n",
              "\n",
              "  image_url description county state lat long posting_date  \n",
              "0       NaN         NaN    NaN    az NaN  NaN          NaN  \n",
              "1       NaN         NaN    NaN    ar NaN  NaN          NaN  \n",
              "2       NaN         NaN    NaN    fl NaN  NaN          NaN  \n",
              "3       NaN         NaN    NaN    ma NaN  NaN          NaN  \n",
              "4       NaN         NaN    NaN    nc NaN  NaN          NaN  \n",
              "\n",
              "[5 rows x 26 columns]"
            ]
          },
          "execution_count": 3,
          "metadata": {},
          "output_type": "execute_result"
        }
      ],
      "source": [
        "df= pd.read_csv('/content/drive/MyDrive/ALDA Homework/vehicles.csv')\n",
        "df.head()"
      ]
    },
    {
      "attachments": {},
      "cell_type": "markdown",
      "metadata": {
        "id": "wYz3owlw9gGZ"
      },
      "source": [
        "## **DATA PRE-PROCESSING**"
      ]
    },
    {
      "attachments": {},
      "cell_type": "markdown",
      "metadata": {
        "id": "5lEB8ady79Cp"
      },
      "source": [
        "REMOVING COLUMNS THAT ARE NOT IMPORTANT SUCH AS URLs/IDs."
      ]
    },
    {
      "cell_type": "code",
      "execution_count": 4,
      "metadata": {
        "colab": {
          "base_uri": "https://localhost:8080/",
          "height": 287
        },
        "id": "MYTUNYav78eM",
        "outputId": "cf3fc246-ef20-4d4b-902e-103098326455"
      },
      "outputs": [
        {
          "data": {
            "text/html": [
              "\n",
              "  <div id=\"df-cf2941b4-1e72-40c0-b14a-83058e0db9f2\">\n",
              "    <div class=\"colab-df-container\">\n",
              "      <div>\n",
              "<style scoped>\n",
              "    .dataframe tbody tr th:only-of-type {\n",
              "        vertical-align: middle;\n",
              "    }\n",
              "\n",
              "    .dataframe tbody tr th {\n",
              "        vertical-align: top;\n",
              "    }\n",
              "\n",
              "    .dataframe thead th {\n",
              "        text-align: right;\n",
              "    }\n",
              "</style>\n",
              "<table border=\"1\" class=\"dataframe\">\n",
              "  <thead>\n",
              "    <tr style=\"text-align: right;\">\n",
              "      <th></th>\n",
              "      <th>region</th>\n",
              "      <th>price</th>\n",
              "      <th>year</th>\n",
              "      <th>manufacturer</th>\n",
              "      <th>model</th>\n",
              "      <th>condition</th>\n",
              "      <th>cylinders</th>\n",
              "      <th>fuel</th>\n",
              "      <th>odometer</th>\n",
              "      <th>title_status</th>\n",
              "      <th>transmission</th>\n",
              "      <th>drive</th>\n",
              "      <th>type</th>\n",
              "      <th>paint_color</th>\n",
              "      <th>state</th>\n",
              "      <th>posting_date</th>\n",
              "    </tr>\n",
              "  </thead>\n",
              "  <tbody>\n",
              "    <tr>\n",
              "      <th>0</th>\n",
              "      <td>prescott</td>\n",
              "      <td>6000</td>\n",
              "      <td>NaN</td>\n",
              "      <td>NaN</td>\n",
              "      <td>NaN</td>\n",
              "      <td>NaN</td>\n",
              "      <td>NaN</td>\n",
              "      <td>NaN</td>\n",
              "      <td>NaN</td>\n",
              "      <td>NaN</td>\n",
              "      <td>NaN</td>\n",
              "      <td>NaN</td>\n",
              "      <td>NaN</td>\n",
              "      <td>NaN</td>\n",
              "      <td>az</td>\n",
              "      <td>NaN</td>\n",
              "    </tr>\n",
              "    <tr>\n",
              "      <th>1</th>\n",
              "      <td>fayetteville</td>\n",
              "      <td>11900</td>\n",
              "      <td>NaN</td>\n",
              "      <td>NaN</td>\n",
              "      <td>NaN</td>\n",
              "      <td>NaN</td>\n",
              "      <td>NaN</td>\n",
              "      <td>NaN</td>\n",
              "      <td>NaN</td>\n",
              "      <td>NaN</td>\n",
              "      <td>NaN</td>\n",
              "      <td>NaN</td>\n",
              "      <td>NaN</td>\n",
              "      <td>NaN</td>\n",
              "      <td>ar</td>\n",
              "      <td>NaN</td>\n",
              "    </tr>\n",
              "    <tr>\n",
              "      <th>2</th>\n",
              "      <td>florida keys</td>\n",
              "      <td>21000</td>\n",
              "      <td>NaN</td>\n",
              "      <td>NaN</td>\n",
              "      <td>NaN</td>\n",
              "      <td>NaN</td>\n",
              "      <td>NaN</td>\n",
              "      <td>NaN</td>\n",
              "      <td>NaN</td>\n",
              "      <td>NaN</td>\n",
              "      <td>NaN</td>\n",
              "      <td>NaN</td>\n",
              "      <td>NaN</td>\n",
              "      <td>NaN</td>\n",
              "      <td>fl</td>\n",
              "      <td>NaN</td>\n",
              "    </tr>\n",
              "    <tr>\n",
              "      <th>3</th>\n",
              "      <td>worcester / central MA</td>\n",
              "      <td>1500</td>\n",
              "      <td>NaN</td>\n",
              "      <td>NaN</td>\n",
              "      <td>NaN</td>\n",
              "      <td>NaN</td>\n",
              "      <td>NaN</td>\n",
              "      <td>NaN</td>\n",
              "      <td>NaN</td>\n",
              "      <td>NaN</td>\n",
              "      <td>NaN</td>\n",
              "      <td>NaN</td>\n",
              "      <td>NaN</td>\n",
              "      <td>NaN</td>\n",
              "      <td>ma</td>\n",
              "      <td>NaN</td>\n",
              "    </tr>\n",
              "    <tr>\n",
              "      <th>4</th>\n",
              "      <td>greensboro</td>\n",
              "      <td>4900</td>\n",
              "      <td>NaN</td>\n",
              "      <td>NaN</td>\n",
              "      <td>NaN</td>\n",
              "      <td>NaN</td>\n",
              "      <td>NaN</td>\n",
              "      <td>NaN</td>\n",
              "      <td>NaN</td>\n",
              "      <td>NaN</td>\n",
              "      <td>NaN</td>\n",
              "      <td>NaN</td>\n",
              "      <td>NaN</td>\n",
              "      <td>NaN</td>\n",
              "      <td>nc</td>\n",
              "      <td>NaN</td>\n",
              "    </tr>\n",
              "  </tbody>\n",
              "</table>\n",
              "</div>\n",
              "      <button class=\"colab-df-convert\" onclick=\"convertToInteractive('df-cf2941b4-1e72-40c0-b14a-83058e0db9f2')\"\n",
              "              title=\"Convert this dataframe to an interactive table.\"\n",
              "              style=\"display:none;\">\n",
              "        \n",
              "  <svg xmlns=\"http://www.w3.org/2000/svg\" height=\"24px\"viewBox=\"0 0 24 24\"\n",
              "       width=\"24px\">\n",
              "    <path d=\"M0 0h24v24H0V0z\" fill=\"none\"/>\n",
              "    <path d=\"M18.56 5.44l.94 2.06.94-2.06 2.06-.94-2.06-.94-.94-2.06-.94 2.06-2.06.94zm-11 1L8.5 8.5l.94-2.06 2.06-.94-2.06-.94L8.5 2.5l-.94 2.06-2.06.94zm10 10l.94 2.06.94-2.06 2.06-.94-2.06-.94-.94-2.06-.94 2.06-2.06.94z\"/><path d=\"M17.41 7.96l-1.37-1.37c-.4-.4-.92-.59-1.43-.59-.52 0-1.04.2-1.43.59L10.3 9.45l-7.72 7.72c-.78.78-.78 2.05 0 2.83L4 21.41c.39.39.9.59 1.41.59.51 0 1.02-.2 1.41-.59l7.78-7.78 2.81-2.81c.8-.78.8-2.07 0-2.86zM5.41 20L4 18.59l7.72-7.72 1.47 1.35L5.41 20z\"/>\n",
              "  </svg>\n",
              "      </button>\n",
              "      \n",
              "  <style>\n",
              "    .colab-df-container {\n",
              "      display:flex;\n",
              "      flex-wrap:wrap;\n",
              "      gap: 12px;\n",
              "    }\n",
              "\n",
              "    .colab-df-convert {\n",
              "      background-color: #E8F0FE;\n",
              "      border: none;\n",
              "      border-radius: 50%;\n",
              "      cursor: pointer;\n",
              "      display: none;\n",
              "      fill: #1967D2;\n",
              "      height: 32px;\n",
              "      padding: 0 0 0 0;\n",
              "      width: 32px;\n",
              "    }\n",
              "\n",
              "    .colab-df-convert:hover {\n",
              "      background-color: #E2EBFA;\n",
              "      box-shadow: 0px 1px 2px rgba(60, 64, 67, 0.3), 0px 1px 3px 1px rgba(60, 64, 67, 0.15);\n",
              "      fill: #174EA6;\n",
              "    }\n",
              "\n",
              "    [theme=dark] .colab-df-convert {\n",
              "      background-color: #3B4455;\n",
              "      fill: #D2E3FC;\n",
              "    }\n",
              "\n",
              "    [theme=dark] .colab-df-convert:hover {\n",
              "      background-color: #434B5C;\n",
              "      box-shadow: 0px 1px 3px 1px rgba(0, 0, 0, 0.15);\n",
              "      filter: drop-shadow(0px 1px 2px rgba(0, 0, 0, 0.3));\n",
              "      fill: #FFFFFF;\n",
              "    }\n",
              "  </style>\n",
              "\n",
              "      <script>\n",
              "        const buttonEl =\n",
              "          document.querySelector('#df-cf2941b4-1e72-40c0-b14a-83058e0db9f2 button.colab-df-convert');\n",
              "        buttonEl.style.display =\n",
              "          google.colab.kernel.accessAllowed ? 'block' : 'none';\n",
              "\n",
              "        async function convertToInteractive(key) {\n",
              "          const element = document.querySelector('#df-cf2941b4-1e72-40c0-b14a-83058e0db9f2');\n",
              "          const dataTable =\n",
              "            await google.colab.kernel.invokeFunction('convertToInteractive',\n",
              "                                                     [key], {});\n",
              "          if (!dataTable) return;\n",
              "\n",
              "          const docLinkHtml = 'Like what you see? Visit the ' +\n",
              "            '<a target=\"_blank\" href=https://colab.research.google.com/notebooks/data_table.ipynb>data table notebook</a>'\n",
              "            + ' to learn more about interactive tables.';\n",
              "          element.innerHTML = '';\n",
              "          dataTable['output_type'] = 'display_data';\n",
              "          await google.colab.output.renderOutput(dataTable, element);\n",
              "          const docLink = document.createElement('div');\n",
              "          docLink.innerHTML = docLinkHtml;\n",
              "          element.appendChild(docLink);\n",
              "        }\n",
              "      </script>\n",
              "    </div>\n",
              "  </div>\n",
              "  "
            ],
            "text/plain": [
              "                   region  price  year manufacturer model condition cylinders  \\\n",
              "0                prescott   6000   NaN          NaN   NaN       NaN       NaN   \n",
              "1            fayetteville  11900   NaN          NaN   NaN       NaN       NaN   \n",
              "2            florida keys  21000   NaN          NaN   NaN       NaN       NaN   \n",
              "3  worcester / central MA   1500   NaN          NaN   NaN       NaN       NaN   \n",
              "4              greensboro   4900   NaN          NaN   NaN       NaN       NaN   \n",
              "\n",
              "  fuel  odometer title_status transmission drive type paint_color state  \\\n",
              "0  NaN       NaN          NaN          NaN   NaN  NaN         NaN    az   \n",
              "1  NaN       NaN          NaN          NaN   NaN  NaN         NaN    ar   \n",
              "2  NaN       NaN          NaN          NaN   NaN  NaN         NaN    fl   \n",
              "3  NaN       NaN          NaN          NaN   NaN  NaN         NaN    ma   \n",
              "4  NaN       NaN          NaN          NaN   NaN  NaN         NaN    nc   \n",
              "\n",
              "  posting_date  \n",
              "0          NaN  \n",
              "1          NaN  \n",
              "2          NaN  \n",
              "3          NaN  \n",
              "4          NaN  "
            ]
          },
          "execution_count": 4,
          "metadata": {},
          "output_type": "execute_result"
        }
      ],
      "source": [
        "df=df.drop(['id', 'url', 'region_url', 'lat', 'long', 'county', 'image_url', 'description', 'size', 'VIN'], axis=1)\n",
        "df.head()"
      ]
    },
    {
      "attachments": {},
      "cell_type": "markdown",
      "metadata": {
        "id": "WlKrIBEVKISk"
      },
      "source": [
        "FINDING HOW MANY NAN VALUES ARE PRESENT IN EACH COLUMN"
      ]
    },
    {
      "cell_type": "code",
      "execution_count": 5,
      "metadata": {
        "colab": {
          "base_uri": "https://localhost:8080/"
        },
        "id": "hRfH7tyH7RBZ",
        "outputId": "3abae171-08f3-4f49-c215-c472419c5bab"
      },
      "outputs": [
        {
          "data": {
            "text/plain": [
              "(115988, 16)"
            ]
          },
          "execution_count": 5,
          "metadata": {},
          "output_type": "execute_result"
        }
      ],
      "source": [
        "df_copy = df\n",
        "df_copy = df_copy.dropna()\n",
        "df_copy.shape"
      ]
    },
    {
      "attachments": {},
      "cell_type": "markdown",
      "metadata": {
        "id": "C5rDpEH3Z2YT"
      },
      "source": [
        "After dropna, almost of 73% our data is getting deleted. Hence we look at all attributes individually"
      ]
    },
    {
      "cell_type": "code",
      "execution_count": 6,
      "metadata": {
        "colab": {
          "base_uri": "https://localhost:8080/"
        },
        "id": "N78jizUjaPVD",
        "outputId": "71ecce63-7404-42a8-cf9b-ba079440e089"
      },
      "outputs": [
        {
          "data": {
            "text/plain": [
              "region               0\n",
              "price                0\n",
              "year              1205\n",
              "manufacturer     17646\n",
              "model             5277\n",
              "condition       174104\n",
              "cylinders       177678\n",
              "fuel              3013\n",
              "odometer          4400\n",
              "title_status      8242\n",
              "transmission      2556\n",
              "drive           130567\n",
              "type             92858\n",
              "paint_color     130203\n",
              "state                0\n",
              "posting_date        68\n",
              "dtype: int64"
            ]
          },
          "execution_count": 6,
          "metadata": {},
          "output_type": "execute_result"
        }
      ],
      "source": [
        "df.isna().sum()"
      ]
    },
    {
      "cell_type": "code",
      "execution_count": 7,
      "metadata": {
        "colab": {
          "base_uri": "https://localhost:8080/",
          "height": 378
        },
        "id": "4iObwuPqKSUc",
        "outputId": "6fde0558-f26d-49d7-b9a6-f323f0ffbab5"
      },
      "outputs": [
        {
          "data": {
            "image/png": "[encoded data removed]",
            "text/plain": [
              "<Figure size 1152x360 with 2 Axes>"
            ]
          },
          "metadata": {
            "needs_background": "light"
          },
          "output_type": "display_data"
        }
      ],
      "source": [
        "fig, (ax1,ax2) = plt.subplots(1,2,figsize=(16,5))\n",
        "ax1.bar(df.columns,df.isna().sum())\n",
        "ax1.set_ylabel('NAN')\n",
        "ax1.set_ylim(0,df.shape[0])\n",
        "ax1.tick_params('x',labelrotation=90)\n",
        "sns.heatmap(df.isna(),yticklabels=False,cbar=False, cmap='Blues',ax=ax2)\n",
        "plt.show()"
      ]
    },
    {
      "attachments": {},
      "cell_type": "markdown",
      "metadata": {
        "id": "9h_QR0SIL8oU"
      },
      "source": [
        "### **CREATING BOX PLOTS FOR OUTLIERS**"
      ]
    },
    {
      "cell_type": "code",
      "execution_count": 8,
      "metadata": {
        "colab": {
          "base_uri": "https://localhost:8080/",
          "height": 272
        },
        "id": "M8LI3L0CKTMX",
        "outputId": "0a485e0f-99a6-4357-fcde-9005930f0e44"
      },
      "outputs": [
        {
          "data": {
            "text/plain": [
              "<matplotlib.axes._subplots.AxesSubplot at 0x7f02fd465d00>"
            ]
          },
          "execution_count": 8,
          "metadata": {},
          "output_type": "execute_result"
        },
        {
          "data": {
            "image/png": "[encoded data removed]",
            "text/plain": [
              "<Figure size 432x288 with 1 Axes>"
            ]
          },
          "metadata": {
            "needs_background": "light"
          },
          "output_type": "display_data"
        }
      ],
      "source": [
        "sns.boxplot(y='price', data=df,showfliers=False)"
      ]
    },
    {
      "cell_type": "code",
      "execution_count": 9,
      "metadata": {
        "colab": {
          "base_uri": "https://localhost:8080/",
          "height": 252
        },
        "id": "OnvmbYa5MyFd",
        "outputId": "3cee6848-7108-4de9-9cc3-c399534b0acf"
      },
      "outputs": [
        {
          "data": {
            "image/png": "[encoded data removed]",
            "text/plain": [
              "<Figure size 432x288 with 1 Axes>"
            ]
          },
          "metadata": {
            "needs_background": "light"
          },
          "output_type": "display_data"
        }
      ],
      "source": [
        "sns.boxplot(y='odometer', data= df,showfliers=False);"
      ]
    },
    {
      "cell_type": "code",
      "execution_count": 10,
      "metadata": {
        "colab": {
          "base_uri": "https://localhost:8080/",
          "height": 252
        },
        "id": "04Lr2vbjbUQS",
        "outputId": "60a4bb18-45ba-49b7-dc15-68ee280ecdfa"
      },
      "outputs": [
        {
          "data": {
            "image/png": "[encoded data removed]",
            "text/plain": [
              "<Figure size 432x288 with 1 Axes>"
            ]
          },
          "metadata": {
            "needs_background": "light"
          },
          "output_type": "display_data"
        }
      ],
      "source": [
        "sns.boxplot(y='year', data= df,showfliers=False);"
      ]
    },
    {
      "attachments": {},
      "cell_type": "markdown",
      "metadata": {
        "id": "vf_m6iIXMATu"
      },
      "source": [
        "REMOVING ROWS WITH PRICES ABOVE 30000 and PRICES BELOW 4000"
      ]
    },
    {
      "attachments": {},
      "cell_type": "markdown",
      "metadata": {
        "id": "G3O4WnGNbAdD"
      },
      "source": [
        "We consider prices between the 20th and 80th percentile"
      ]
    },
    {
      "cell_type": "code",
      "execution_count": 11,
      "metadata": {
        "id": "SlHzBCiaL1fz"
      },
      "outputs": [],
      "source": [
        "filter_price = df[df['price'] > 4000]\n",
        "filter_price = df[df['price'] < 30000]"
      ]
    },
    {
      "attachments": {},
      "cell_type": "markdown",
      "metadata": {
        "id": "Pip2tOjjMXBz"
      },
      "source": [
        "REMOVING ALL VEHICLES WITH YEAR<1990"
      ]
    },
    {
      "attachments": {},
      "cell_type": "markdown",
      "metadata": {
        "id": "SeRWHKYSbk2Q"
      },
      "source": [
        "We only see relevant data for predictions for years greater than 1990"
      ]
    },
    {
      "cell_type": "code",
      "execution_count": 12,
      "metadata": {
        "id": "7IauBKaSMOxa"
      },
      "outputs": [],
      "source": [
        "filter_year = filter_price[filter_price['year'] > 1990]\n"
      ]
    },
    {
      "attachments": {},
      "cell_type": "markdown",
      "metadata": {
        "id": "jJgk3dE8NoAD"
      },
      "source": [
        "FINDING THE BETTER ATTRIBUTE IN CONDITION AND TITLE STATUS"
      ]
    },
    {
      "cell_type": "code",
      "execution_count": 13,
      "metadata": {
        "colab": {
          "base_uri": "https://localhost:8080/"
        },
        "id": "8sXKXJVQMnkx",
        "outputId": "3eab459e-5d38-4c09-e96d-21dad909545d"
      },
      "outputs": [
        {
          "data": {
            "text/plain": [
              "clean         405117\n",
              "rebuilt         7219\n",
              "salvage         3868\n",
              "lien            1422\n",
              "missing          814\n",
              "parts only       198\n",
              "Name: title_status, dtype: int64"
            ]
          },
          "execution_count": 13,
          "metadata": {},
          "output_type": "execute_result"
        }
      ],
      "source": [
        "df['title_status'].value_counts()"
      ]
    },
    {
      "cell_type": "code",
      "execution_count": 14,
      "metadata": {
        "colab": {
          "base_uri": "https://localhost:8080/"
        },
        "id": "bVLL99QRNkjQ",
        "outputId": "7a3d2204-ee01-4d83-d7f6-cb56320d87f4"
      },
      "outputs": [
        {
          "data": {
            "text/plain": [
              "good         121456\n",
              "excellent    101467\n",
              "like new      21178\n",
              "fair           6769\n",
              "new            1305\n",
              "salvage         601\n",
              "Name: condition, dtype: int64"
            ]
          },
          "execution_count": 14,
          "metadata": {},
          "output_type": "execute_result"
        }
      ],
      "source": [
        "df['condition'].value_counts()"
      ]
    },
    {
      "attachments": {},
      "cell_type": "markdown",
      "metadata": {
        "id": "DCv7cQAKNwug"
      },
      "source": [
        "SELECTING CONDITION OVER TITLE STATUS"
      ]
    },
    {
      "attachments": {},
      "cell_type": "markdown",
      "metadata": {
        "id": "T8gXXZiPcz1g"
      },
      "source": [
        "As both of these attributes help in getting informaton about the current state of the car, "
      ]
    },
    {
      "cell_type": "code",
      "execution_count": 15,
      "metadata": {
        "id": "lidRhoX2NnIC"
      },
      "outputs": [],
      "source": [
        "title_status_removed=filter_year.drop(['title_status'], axis = 1) "
      ]
    },
    {
      "attachments": {},
      "cell_type": "markdown",
      "metadata": {
        "id": "UnFsG6SEOtjl"
      },
      "source": [
        "REMOVING ROWS WITH ODOMETER READINGS BELOW 30000 and ABOVE 190000"
      ]
    },
    {
      "cell_type": "code",
      "execution_count": 16,
      "metadata": {
        "id": "-aDfYXEQN2PY"
      },
      "outputs": [],
      "source": [
        "odometer_removed = title_status_removed[title_status_removed['odometer'] > 30000]\n",
        "odometer_removed = title_status_removed[title_status_removed['odometer'] < 190000]"
      ]
    },
    {
      "attachments": {},
      "cell_type": "markdown",
      "metadata": {
        "id": "pJAGXKXzO2wq"
      },
      "source": [
        "FINDING ALL NAN VALUES"
      ]
    },
    {
      "cell_type": "code",
      "execution_count": 17,
      "metadata": {
        "colab": {
          "base_uri": "https://localhost:8080/"
        },
        "id": "PRDw2pXFOuxo",
        "outputId": "ef54b141-484f-4514-b0c5-c4a89aa92c18"
      },
      "outputs": [
        {
          "data": {
            "text/plain": [
              "region               0\n",
              "price                0\n",
              "year                 0\n",
              "manufacturer      9608\n",
              "model             2765\n",
              "condition       125339\n",
              "cylinders       125182\n",
              "fuel              1728\n",
              "odometer             0\n",
              "transmission      1227\n",
              "drive            91687\n",
              "type             64892\n",
              "paint_color      93256\n",
              "state                0\n",
              "posting_date         0\n",
              "dtype: int64"
            ]
          },
          "execution_count": 17,
          "metadata": {},
          "output_type": "execute_result"
        }
      ],
      "source": [
        "odometer_removed.isna().sum()"
      ]
    },
    {
      "attachments": {},
      "cell_type": "markdown",
      "metadata": {
        "id": "r71JT6uVPYyT"
      },
      "source": [
        "REMOVING ALL NAN VALUES"
      ]
    },
    {
      "cell_type": "code",
      "execution_count": 18,
      "metadata": {
        "id": "Zch_JH-mO15y"
      },
      "outputs": [],
      "source": [
        "drop_all_nan = odometer_removed.dropna()"
      ]
    },
    {
      "attachments": {},
      "cell_type": "markdown",
      "metadata": {
        "id": "U-GI17NPPlXH"
      },
      "source": [
        "### **LABEL ENCODING CATEGORICAL FEATURES**"
      ]
    },
    {
      "cell_type": "code",
      "execution_count": 19,
      "metadata": {
        "colab": {
          "base_uri": "https://localhost:8080/"
        },
        "id": "8mX_wdhJPbcX",
        "outputId": "d783ffca-5ac2-428a-fe1f-f5f1aeaf42e5"
      },
      "outputs": [
        {
          "name": "stderr",
          "output_type": "stream",
          "text": [
            "<ipython-input-19-e4ce0e9f843f>:12: SettingWithCopyWarning: \n",
            "A value is trying to be set on a copy of a slice from a DataFrame.\n",
            "Try using .loc[row_indexer,col_indexer] = value instead\n",
            "\n",
            "See the caveats in the documentation: https://pandas.pydata.org/pandas-docs/stable/user_guide/indexing.html#returning-a-view-versus-a-copy\n",
            "  drop_all_nan[col] = le.transform(list(drop_all_nan[col].astype(str).values))\n"
          ]
        },
        {
          "data": {
            "text/plain": [
              "region            int64\n",
              "price             int64\n",
              "year            float64\n",
              "manufacturer      int64\n",
              "model             int64\n",
              "condition         int64\n",
              "cylinders         int64\n",
              "fuel              int64\n",
              "odometer        float64\n",
              "transmission      int64\n",
              "drive             int64\n",
              "type              int64\n",
              "paint_color       int64\n",
              "state             int64\n",
              "posting_date      int64\n",
              "dtype: object"
            ]
          },
          "execution_count": 19,
          "metadata": {},
          "output_type": "execute_result"
        }
      ],
      "source": [
        "numerics = ['int8', 'int16', 'int32', 'int64', 'float16', 'float32', 'float64']\n",
        "categorical_columns = []\n",
        "features = drop_all_nan.columns.values.tolist()\n",
        "for col in features:\n",
        "    if drop_all_nan[col].dtype in numerics: continue\n",
        "    categorical_columns.append(col)\n",
        "# Encoding categorical features\n",
        "for col in categorical_columns:\n",
        "    if col in drop_all_nan.columns:\n",
        "        le = LabelEncoder()\n",
        "        le.fit(list(drop_all_nan[col].astype(str).values))\n",
        "        drop_all_nan[col] = le.transform(list(drop_all_nan[col].astype(str).values))\n",
        "drop_all_nan.dtypes"
      ]
    },
    {
      "attachments": {},
      "cell_type": "markdown",
      "metadata": {
        "id": "keYfX9zjPyxK"
      },
      "source": [
        "## **EXPLORATORY DATA ANALYSIS**"
      ]
    },
    {
      "cell_type": "code",
      "execution_count": 20,
      "metadata": {
        "colab": {
          "base_uri": "https://localhost:8080/",
          "height": 344
        },
        "id": "DFH6oaCVPp-l",
        "outputId": "278e3d3a-930f-46e8-a002-035309c97824"
      },
      "outputs": [
        {
          "data": {
            "text/plain": [
              "<matplotlib.axes._subplots.AxesSubplot at 0x7f02fa5458b0>"
            ]
          },
          "execution_count": 20,
          "metadata": {},
          "output_type": "execute_result"
        },
        {
          "data": {
            "image/png": "[encoded data removed]",
            "text/plain": [
              "<Figure size 432x288 with 2 Axes>"
            ]
          },
          "metadata": {
            "needs_background": "light"
          },
          "output_type": "display_data"
        }
      ],
      "source": [
        "sns.heatmap(drop_all_nan.corr(), annot = True)"
      ]
    },
    {
      "attachments": {},
      "cell_type": "markdown",
      "metadata": {
        "id": "olsVzMKHQwqZ"
      },
      "source": [
        "REMOVING COLUMNS WITH LITTLE TO NO CORRELATION"
      ]
    },
    {
      "cell_type": "code",
      "execution_count": 21,
      "metadata": {
        "id": "9DuBse3hP3Ny"
      },
      "outputs": [],
      "source": [
        "nocorelation = drop_all_nan.drop(['region','state','posting_date','paint_color'], axis=1)"
      ]
    },
    {
      "cell_type": "code",
      "execution_count": 22,
      "metadata": {
        "colab": {
          "base_uri": "https://localhost:8080/",
          "height": 344
        },
        "id": "l2D0iTr_Rdyh",
        "outputId": "3f1aa18a-04a7-4baa-930f-ced0da5c9303"
      },
      "outputs": [
        {
          "data": {
            "text/plain": [
              "<matplotlib.axes._subplots.AxesSubplot at 0x7f02fa312d90>"
            ]
          },
          "execution_count": 22,
          "metadata": {},
          "output_type": "execute_result"
        },
        {
          "data": {
            "image/png": "[encoded data removed]",
            "text/plain": [
              "<Figure size 432x288 with 2 Axes>"
            ]
          },
          "metadata": {
            "needs_background": "light"
          },
          "output_type": "display_data"
        }
      ],
      "source": [
        "sns.heatmap(nocorelation.corr(), annot = True)"
      ]
    },
    {
      "attachments": {},
      "cell_type": "markdown",
      "metadata": {
        "id": "WHElBAZqRrhT"
      },
      "source": [
        "### **FINAL DATAFRAME**"
      ]
    },
    {
      "cell_type": "code",
      "execution_count": 23,
      "metadata": {
        "id": "AFUwFadkRjEs"
      },
      "outputs": [],
      "source": [
        "finaldf=nocorelation"
      ]
    },
    {
      "cell_type": "code",
      "execution_count": 24,
      "metadata": {
        "colab": {
          "base_uri": "https://localhost:8080/",
          "height": 364
        },
        "id": "6SH7bjJ_Rqbw",
        "outputId": "b5096c7a-99a4-42a1-bc5e-ea33f8b5f937"
      },
      "outputs": [
        {
          "data": {
            "text/html": [
              "\n",
              "  <div id=\"df-bc1ae7ad-53b8-41d4-989d-68c1a6a2f2d9\">\n",
              "    <div class=\"colab-df-container\">\n",
              "      <div>\n",
              "<style scoped>\n",
              "    .dataframe tbody tr th:only-of-type {\n",
              "        vertical-align: middle;\n",
              "    }\n",
              "\n",
              "    .dataframe tbody tr th {\n",
              "        vertical-align: top;\n",
              "    }\n",
              "\n",
              "    .dataframe thead th {\n",
              "        text-align: right;\n",
              "    }\n",
              "</style>\n",
              "<table border=\"1\" class=\"dataframe\">\n",
              "  <thead>\n",
              "    <tr style=\"text-align: right;\">\n",
              "      <th></th>\n",
              "      <th>price</th>\n",
              "      <th>year</th>\n",
              "      <th>manufacturer</th>\n",
              "      <th>model</th>\n",
              "      <th>condition</th>\n",
              "      <th>cylinders</th>\n",
              "      <th>fuel</th>\n",
              "      <th>odometer</th>\n",
              "      <th>transmission</th>\n",
              "      <th>drive</th>\n",
              "      <th>type</th>\n",
              "    </tr>\n",
              "  </thead>\n",
              "  <tbody>\n",
              "    <tr>\n",
              "      <th>count</th>\n",
              "      <td>83645.000000</td>\n",
              "      <td>83645.000000</td>\n",
              "      <td>83645.000000</td>\n",
              "      <td>83645.000000</td>\n",
              "      <td>83645.000000</td>\n",
              "      <td>83645.000000</td>\n",
              "      <td>83645.000000</td>\n",
              "      <td>83645.000000</td>\n",
              "      <td>83645.000000</td>\n",
              "      <td>83645.000000</td>\n",
              "      <td>83645.000000</td>\n",
              "    </tr>\n",
              "    <tr>\n",
              "      <th>mean</th>\n",
              "      <td>11647.747612</td>\n",
              "      <td>2010.646578</td>\n",
              "      <td>16.939638</td>\n",
              "      <td>4404.498547</td>\n",
              "      <td>1.089031</td>\n",
              "      <td>4.397645</td>\n",
              "      <td>1.975013</td>\n",
              "      <td>103302.892104</td>\n",
              "      <td>0.182175</td>\n",
              "      <td>0.811298</td>\n",
              "      <td>5.952131</td>\n",
              "    </tr>\n",
              "    <tr>\n",
              "      <th>std</th>\n",
              "      <td>8076.964796</td>\n",
              "      <td>5.482266</td>\n",
              "      <td>10.867618</td>\n",
              "      <td>2440.458699</td>\n",
              "      <td>1.172601</td>\n",
              "      <td>1.272819</td>\n",
              "      <td>0.412605</td>\n",
              "      <td>46659.349357</td>\n",
              "      <td>0.517634</td>\n",
              "      <td>0.740065</td>\n",
              "      <td>4.152191</td>\n",
              "    </tr>\n",
              "    <tr>\n",
              "      <th>min</th>\n",
              "      <td>0.000000</td>\n",
              "      <td>1991.000000</td>\n",
              "      <td>0.000000</td>\n",
              "      <td>0.000000</td>\n",
              "      <td>0.000000</td>\n",
              "      <td>0.000000</td>\n",
              "      <td>0.000000</td>\n",
              "      <td>0.000000</td>\n",
              "      <td>0.000000</td>\n",
              "      <td>0.000000</td>\n",
              "      <td>0.000000</td>\n",
              "    </tr>\n",
              "    <tr>\n",
              "      <th>25%</th>\n",
              "      <td>5500.000000</td>\n",
              "      <td>2007.000000</td>\n",
              "      <td>8.000000</td>\n",
              "      <td>2342.000000</td>\n",
              "      <td>0.000000</td>\n",
              "      <td>3.000000</td>\n",
              "      <td>2.000000</td>\n",
              "      <td>70000.000000</td>\n",
              "      <td>0.000000</td>\n",
              "      <td>0.000000</td>\n",
              "      <td>0.000000</td>\n",
              "    </tr>\n",
              "    <tr>\n",
              "      <th>50%</th>\n",
              "      <td>9900.000000</td>\n",
              "      <td>2012.000000</td>\n",
              "      <td>14.000000</td>\n",
              "      <td>4313.000000</td>\n",
              "      <td>0.000000</td>\n",
              "      <td>5.000000</td>\n",
              "      <td>2.000000</td>\n",
              "      <td>106000.000000</td>\n",
              "      <td>0.000000</td>\n",
              "      <td>1.000000</td>\n",
              "      <td>8.000000</td>\n",
              "    </tr>\n",
              "    <tr>\n",
              "      <th>75%</th>\n",
              "      <td>16972.000000</td>\n",
              "      <td>2015.000000</td>\n",
              "      <td>27.000000</td>\n",
              "      <td>6605.000000</td>\n",
              "      <td>2.000000</td>\n",
              "      <td>5.000000</td>\n",
              "      <td>2.000000</td>\n",
              "      <td>140000.000000</td>\n",
              "      <td>0.000000</td>\n",
              "      <td>1.000000</td>\n",
              "      <td>9.000000</td>\n",
              "    </tr>\n",
              "    <tr>\n",
              "      <th>max</th>\n",
              "      <td>29999.000000</td>\n",
              "      <td>2022.000000</td>\n",
              "      <td>38.000000</td>\n",
              "      <td>8758.000000</td>\n",
              "      <td>5.000000</td>\n",
              "      <td>7.000000</td>\n",
              "      <td>4.000000</td>\n",
              "      <td>189995.000000</td>\n",
              "      <td>2.000000</td>\n",
              "      <td>2.000000</td>\n",
              "      <td>12.000000</td>\n",
              "    </tr>\n",
              "  </tbody>\n",
              "</table>\n",
              "</div>\n",
              "      <button class=\"colab-df-convert\" onclick=\"convertToInteractive('df-bc1ae7ad-53b8-41d4-989d-68c1a6a2f2d9')\"\n",
              "              title=\"Convert this dataframe to an interactive table.\"\n",
              "              style=\"display:none;\">\n",
              "        \n",
              "  <svg xmlns=\"http://www.w3.org/2000/svg\" height=\"24px\"viewBox=\"0 0 24 24\"\n",
              "       width=\"24px\">\n",
              "    <path d=\"M0 0h24v24H0V0z\" fill=\"none\"/>\n",
              "    <path d=\"M18.56 5.44l.94 2.06.94-2.06 2.06-.94-2.06-.94-.94-2.06-.94 2.06-2.06.94zm-11 1L8.5 8.5l.94-2.06 2.06-.94-2.06-.94L8.5 2.5l-.94 2.06-2.06.94zm10 10l.94 2.06.94-2.06 2.06-.94-2.06-.94-.94-2.06-.94 2.06-2.06.94z\"/><path d=\"M17.41 7.96l-1.37-1.37c-.4-.4-.92-.59-1.43-.59-.52 0-1.04.2-1.43.59L10.3 9.45l-7.72 7.72c-.78.78-.78 2.05 0 2.83L4 21.41c.39.39.9.59 1.41.59.51 0 1.02-.2 1.41-.59l7.78-7.78 2.81-2.81c.8-.78.8-2.07 0-2.86zM5.41 20L4 18.59l7.72-7.72 1.47 1.35L5.41 20z\"/>\n",
              "  </svg>\n",
              "      </button>\n",
              "      \n",
              "  <style>\n",
              "    .colab-df-container {\n",
              "      display:flex;\n",
              "      flex-wrap:wrap;\n",
              "      gap: 12px;\n",
              "    }\n",
              "\n",
              "    .colab-df-convert {\n",
              "      background-color: #E8F0FE;\n",
              "      border: none;\n",
              "      border-radius: 50%;\n",
              "      cursor: pointer;\n",
              "      display: none;\n",
              "      fill: #1967D2;\n",
              "      height: 32px;\n",
              "      padding: 0 0 0 0;\n",
              "      width: 32px;\n",
              "    }\n",
              "\n",
              "    .colab-df-convert:hover {\n",
              "      background-color: #E2EBFA;\n",
              "      box-shadow: 0px 1px 2px rgba(60, 64, 67, 0.3), 0px 1px 3px 1px rgba(60, 64, 67, 0.15);\n",
              "      fill: #174EA6;\n",
              "    }\n",
              "\n",
              "    [theme=dark] .colab-df-convert {\n",
              "      background-color: #3B4455;\n",
              "      fill: #D2E3FC;\n",
              "    }\n",
              "\n",
              "    [theme=dark] .colab-df-convert:hover {\n",
              "      background-color: #434B5C;\n",
              "      box-shadow: 0px 1px 3px 1px rgba(0, 0, 0, 0.15);\n",
              "      filter: drop-shadow(0px 1px 2px rgba(0, 0, 0, 0.3));\n",
              "      fill: #FFFFFF;\n",
              "    }\n",
              "  </style>\n",
              "\n",
              "      <script>\n",
              "        const buttonEl =\n",
              "          document.querySelector('#df-bc1ae7ad-53b8-41d4-989d-68c1a6a2f2d9 button.colab-df-convert');\n",
              "        buttonEl.style.display =\n",
              "          google.colab.kernel.accessAllowed ? 'block' : 'none';\n",
              "\n",
              "        async function convertToInteractive(key) {\n",
              "          const element = document.querySelector('#df-bc1ae7ad-53b8-41d4-989d-68c1a6a2f2d9');\n",
              "          const dataTable =\n",
              "            await google.colab.kernel.invokeFunction('convertToInteractive',\n",
              "                                                     [key], {});\n",
              "          if (!dataTable) return;\n",
              "\n",
              "          const docLinkHtml = 'Like what you see? Visit the ' +\n",
              "            '<a target=\"_blank\" href=https://colab.research.google.com/notebooks/data_table.ipynb>data table notebook</a>'\n",
              "            + ' to learn more about interactive tables.';\n",
              "          element.innerHTML = '';\n",
              "          dataTable['output_type'] = 'display_data';\n",
              "          await google.colab.output.renderOutput(dataTable, element);\n",
              "          const docLink = document.createElement('div');\n",
              "          docLink.innerHTML = docLinkHtml;\n",
              "          element.appendChild(docLink);\n",
              "        }\n",
              "      </script>\n",
              "    </div>\n",
              "  </div>\n",
              "  "
            ],
            "text/plain": [
              "              price          year  manufacturer         model     condition  \\\n",
              "count  83645.000000  83645.000000  83645.000000  83645.000000  83645.000000   \n",
              "mean   11647.747612   2010.646578     16.939638   4404.498547      1.089031   \n",
              "std     8076.964796      5.482266     10.867618   2440.458699      1.172601   \n",
              "min        0.000000   1991.000000      0.000000      0.000000      0.000000   \n",
              "25%     5500.000000   2007.000000      8.000000   2342.000000      0.000000   \n",
              "50%     9900.000000   2012.000000     14.000000   4313.000000      0.000000   \n",
              "75%    16972.000000   2015.000000     27.000000   6605.000000      2.000000   \n",
              "max    29999.000000   2022.000000     38.000000   8758.000000      5.000000   \n",
              "\n",
              "          cylinders          fuel       odometer  transmission         drive  \\\n",
              "count  83645.000000  83645.000000   83645.000000  83645.000000  83645.000000   \n",
              "mean       4.397645      1.975013  103302.892104      0.182175      0.811298   \n",
              "std        1.272819      0.412605   46659.349357      0.517634      0.740065   \n",
              "min        0.000000      0.000000       0.000000      0.000000      0.000000   \n",
              "25%        3.000000      2.000000   70000.000000      0.000000      0.000000   \n",
              "50%        5.000000      2.000000  106000.000000      0.000000      1.000000   \n",
              "75%        5.000000      2.000000  140000.000000      0.000000      1.000000   \n",
              "max        7.000000      4.000000  189995.000000      2.000000      2.000000   \n",
              "\n",
              "               type  \n",
              "count  83645.000000  \n",
              "mean       5.952131  \n",
              "std        4.152191  \n",
              "min        0.000000  \n",
              "25%        0.000000  \n",
              "50%        8.000000  \n",
              "75%        9.000000  \n",
              "max       12.000000  "
            ]
          },
          "execution_count": 24,
          "metadata": {},
          "output_type": "execute_result"
        }
      ],
      "source": [
        "finaldf.describe()"
      ]
    },
    {
      "attachments": {},
      "cell_type": "markdown",
      "metadata": {
        "id": "wnfx0LJ1R7xw"
      },
      "source": [
        "SAVING DATAFRAME TO CSV"
      ]
    },
    {
      "cell_type": "code",
      "execution_count": 25,
      "metadata": {
        "id": "mSSHG-XkRzJf"
      },
      "outputs": [],
      "source": [
        "finaldf.to_csv('/content/drive/MyDrive/cleaned_data.csv', encoding='utf-8', index=False)"
      ]
    },
    {
      "attachments": {},
      "cell_type": "markdown",
      "metadata": {
        "id": "jfAIsAHUT_9n"
      },
      "source": [
        "## **MODEL BUILDING AND EVALUATION**"
      ]
    },
    {
      "attachments": {},
      "cell_type": "markdown",
      "metadata": {
        "id": "vBiHZe08W4qe"
      },
      "source": [
        "STANDARD SCALING"
      ]
    },
    {
      "cell_type": "code",
      "execution_count": 26,
      "metadata": {
        "id": "sRpi0Dj9IFUj"
      },
      "outputs": [],
      "source": [
        "scaler = StandardScaler()\n",
        "finaldf= pd.DataFrame(scaler.fit_transform(finaldf), columns = finaldf.columns)"
      ]
    },
    {
      "attachments": {},
      "cell_type": "markdown",
      "metadata": {
        "id": "W7Xcm45QIICb"
      },
      "source": [
        "SPLITTING DATASET INTO TRAINING AND TESTING SET"
      ]
    },
    {
      "cell_type": "code",
      "execution_count": 27,
      "metadata": {
        "id": "msEYAn95IHud"
      },
      "outputs": [],
      "source": [
        "y_train = finaldf['price']\n",
        "X_train = finaldf.drop(['price'], axis=1)\n",
        "X_train, X_test, y_train, y_test = train_test_split(X_train, y_train, test_size=0.2, random_state=0)"
      ]
    },
    {
      "attachments": {},
      "cell_type": "markdown",
      "metadata": {
        "id": "p-1pMy7nVQ_S"
      },
      "source": [
        "### **LINEAR REGRESSION**"
      ]
    },
    {
      "cell_type": "code",
      "execution_count": 28,
      "metadata": {
        "id": "xvYjVQGYT_fD"
      },
      "outputs": [],
      "source": [
        "logr = LinearRegression()\n",
        "lreg=logr.fit(X_train,y_train)"
      ]
    },
    {
      "cell_type": "code",
      "execution_count": 29,
      "metadata": {
        "id": "rqDW9YGaSPjc"
      },
      "outputs": [],
      "source": [
        "y_predicted = logr.predict(X_test)"
      ]
    },
    {
      "attachments": {},
      "cell_type": "markdown",
      "metadata": {
        "id": "O3exsyCmIbpl"
      },
      "source": [
        "PERFORMANCE METRICS"
      ]
    },
    {
      "cell_type": "code",
      "execution_count": 30,
      "metadata": {
        "colab": {
          "base_uri": "https://localhost:8080/"
        },
        "id": "k0LJ44UhIbYl",
        "outputId": "9fe34205-827f-41ca-8d79-6f92b3226138"
      },
      "outputs": [
        {
          "name": "stdout",
          "output_type": "stream",
          "text": [
            "R^2 :  0.3475227269792087\n",
            "MAE : 0.5767477018763312\n",
            "Accuracy: 0.4232522981236688\n",
            "RMSE: 0.8022921712401472\n"
          ]
        }
      ],
      "source": [
        "print(\"R^2 : \", r2_score(y_test, y_predicted))\n",
        "print(\"MAE :\", mean_absolute_error(y_test,y_predicted))\n",
        "print(\"Accuracy:\", 1-mean_absolute_error(y_test,y_predicted))\n",
        "print(\"RMSE:\",np.sqrt(mean_squared_error(y_test, y_predicted)))"
      ]
    },
    {
      "attachments": {},
      "cell_type": "markdown",
      "metadata": {
        "id": "MEgz6rfsIfwf"
      },
      "source": [
        "COEFFICIENTS AND INTERCEPTS"
      ]
    },
    {
      "cell_type": "code",
      "execution_count": 31,
      "metadata": {
        "colab": {
          "base_uri": "https://localhost:8080/"
        },
        "id": "_FDoLyRFIe5W",
        "outputId": "f08b37e2-9984-4f84-c280-2996ab9d4126"
      },
      "outputs": [
        {
          "data": {
            "text/plain": [
              "array([ 0.35162047,  0.02392079,  0.01661742,  0.01718584,  0.30433163,\n",
              "       -0.09684834, -0.23360226,  0.18727589, -0.05240921, -0.004136  ])"
            ]
          },
          "execution_count": 31,
          "metadata": {},
          "output_type": "execute_result"
        }
      ],
      "source": [
        "lreg.coef_"
      ]
    },
    {
      "cell_type": "code",
      "execution_count": 32,
      "metadata": {
        "colab": {
          "base_uri": "https://localhost:8080/"
        },
        "id": "A1lRdO3RIkRf",
        "outputId": "c27ef7f7-5a82-4dfc-9183-dd60539c9aba"
      },
      "outputs": [
        {
          "data": {
            "text/plain": [
              "0.0016439510683561058"
            ]
          },
          "execution_count": 32,
          "metadata": {},
          "output_type": "execute_result"
        }
      ],
      "source": [
        "lreg.intercept_"
      ]
    },
    {
      "attachments": {},
      "cell_type": "markdown",
      "metadata": {
        "id": "jdOLH7QdInXi"
      },
      "source": [
        "## **SUPPORT VECTOR REGRESSOR**"
      ]
    },
    {
      "attachments": {},
      "cell_type": "markdown",
      "metadata": {
        "id": "mapTNVleIuG6"
      },
      "source": [
        "1. USING RBF KERNEL"
      ]
    },
    {
      "cell_type": "code",
      "execution_count": 33,
      "metadata": {
        "colab": {
          "base_uri": "https://localhost:8080/"
        },
        "id": "unuo1aW1IrlA",
        "outputId": "3d9f0599-bb5b-4356-d9cc-17772b9c600d"
      },
      "outputs": [
        {
          "data": {
            "text/plain": [
              "SVR()"
            ]
          },
          "execution_count": 33,
          "metadata": {},
          "output_type": "execute_result"
        }
      ],
      "source": [
        "svr = SVR()\n",
        "svr.fit(X_train, y_train)"
      ]
    },
    {
      "cell_type": "code",
      "execution_count": 34,
      "metadata": {
        "id": "OMlf1PKDI8gg"
      },
      "outputs": [],
      "source": [
        "y_predictedSVR = svr.predict(X_test)"
      ]
    },
    {
      "attachments": {},
      "cell_type": "markdown",
      "metadata": {
        "id": "m2Tps-52I9v2"
      },
      "source": [
        "PERFORMANCE METRICS"
      ]
    },
    {
      "cell_type": "code",
      "execution_count": 35,
      "metadata": {
        "colab": {
          "base_uri": "https://localhost:8080/"
        },
        "id": "CE1SYkjOI9ds",
        "outputId": "a8175729-9fdc-4c71-f8ba-67e5d3e57494"
      },
      "outputs": [
        {
          "name": "stdout",
          "output_type": "stream",
          "text": [
            "R^2 :  0.5649197398371225\n",
            "MAE : 0.39805215931277865\n",
            "Accuracy: 0.6019478406872214\n",
            "RMSE: 0.655140653615331\n"
          ]
        }
      ],
      "source": [
        "print(\"R^2 : \", r2_score(y_test, y_predictedSVR))\n",
        "print(\"MAE :\", mean_absolute_error(y_test,y_predictedSVR))\n",
        "print(\"Accuracy:\", 1-mean_absolute_error(y_test,y_predictedSVR))\n",
        "print(\"RMSE:\",np.sqrt(mean_squared_error(y_test, y_predictedSVR)))"
      ]
    },
    {
      "attachments": {},
      "cell_type": "markdown",
      "metadata": {
        "id": "m_MXpIHmIx-1"
      },
      "source": [
        "2. USING POLYNOMIAL KERNEL"
      ]
    },
    {
      "cell_type": "code",
      "execution_count": 36,
      "metadata": {
        "colab": {
          "base_uri": "https://localhost:8080/"
        },
        "id": "4s_Oe_S4I2hE",
        "outputId": "5af59822-89fc-466f-dfc0-e8db53b8b38a"
      },
      "outputs": [
        {
          "data": {
            "text/plain": [
              "SVR(kernel='poly')"
            ]
          },
          "execution_count": 36,
          "metadata": {},
          "output_type": "execute_result"
        }
      ],
      "source": [
        "svrs = SVR(kernel='poly')\n",
        "svrs.fit(X_train, y_train)"
      ]
    },
    {
      "cell_type": "code",
      "execution_count": 37,
      "metadata": {
        "id": "Utf3gPtOJCM2"
      },
      "outputs": [],
      "source": [
        "y_predictedSVRs = svrs.predict(X_test)"
      ]
    },
    {
      "attachments": {},
      "cell_type": "markdown",
      "metadata": {
        "id": "tpaWfSItJEkk"
      },
      "source": [
        "PERFORMANCE METRICS"
      ]
    },
    {
      "cell_type": "code",
      "execution_count": 38,
      "metadata": {
        "colab": {
          "base_uri": "https://localhost:8080/"
        },
        "id": "-wq5XYgaJGHh",
        "outputId": "56ca9226-c3e3-4822-9d1b-fb39ae4df9bf"
      },
      "outputs": [
        {
          "name": "stdout",
          "output_type": "stream",
          "text": [
            "R^2 :  0.3708608719928296\n",
            "MAE : 0.5243248490451257\n",
            "Accuracy: 0.47567515095487434\n",
            "RMSE: 0.7878131177789056\n"
          ]
        }
      ],
      "source": [
        "print(\"R^2 : \", r2_score(y_test, y_predictedSVRs))\n",
        "print(\"MAE :\", mean_absolute_error(y_test,y_predictedSVRs))\n",
        "print(\"Accuracy:\", 1-mean_absolute_error(y_test,y_predictedSVRs))\n",
        "print(\"RMSE:\",np.sqrt(mean_squared_error(y_test, y_predictedSVRs)))"
      ]
    },
    {
      "attachments": {},
      "cell_type": "markdown",
      "metadata": {
        "id": "lx9slY0gJLEP"
      },
      "source": [
        "## **RANDOM FOREST REGRESSOR**"
      ]
    },
    {
      "cell_type": "code",
      "execution_count": 39,
      "metadata": {
        "id": "ChlzE49eJKxI"
      },
      "outputs": [],
      "source": [
        "random_forest = RandomForestRegressor()\n",
        "rffit=random_forest.fit(X_train, y_train)"
      ]
    },
    {
      "cell_type": "code",
      "execution_count": 40,
      "metadata": {
        "id": "6ViE_Qt_JfK0"
      },
      "outputs": [],
      "source": [
        "y_predictedRFR = rffit.predict(X_test)"
      ]
    },
    {
      "attachments": {},
      "cell_type": "markdown",
      "metadata": {
        "id": "jdB3CrIGJfyK"
      },
      "source": [
        "PERFORMANCE METRICS"
      ]
    },
    {
      "cell_type": "code",
      "execution_count": 41,
      "metadata": {
        "colab": {
          "base_uri": "https://localhost:8080/"
        },
        "id": "V_2a3iJaJRDc",
        "outputId": "659fac45-6855-417d-ecda-1c431e195598"
      },
      "outputs": [
        {
          "name": "stdout",
          "output_type": "stream",
          "text": [
            "R^2 :  0.7792832706304312\n",
            "MAE : 0.2562802547249536\n",
            "Accuracy: 0.7437197452750464\n",
            "RMSE: 0.4666244444796711\n"
          ]
        }
      ],
      "source": [
        "print(\"R^2 : \", r2_score(y_test, y_predictedRFR))\n",
        "print(\"MAE :\", mean_absolute_error(y_test,y_predictedRFR))\n",
        "print(\"Accuracy:\", 1-mean_absolute_error(y_test,y_predictedRFR))\n",
        "print(\"RMSE:\",np.sqrt(mean_squared_error(y_test, y_predictedRFR)))"
      ]
    },
    {
      "attachments": {},
      "cell_type": "markdown",
      "metadata": {
        "id": "1ukXhKg-KIzD"
      },
      "source": [
        "## **ANN USING LSTM**"
      ]
    },
    {
      "attachments": {},
      "cell_type": "markdown",
      "metadata": {
        "id": "EhK8kmxcKQOR"
      },
      "source": [
        "### LONG-SHORT TERM MEMORY"
      ]
    },
    {
      "attachments": {},
      "cell_type": "markdown",
      "metadata": {
        "id": "wDzN5UQMK41A"
      },
      "source": [
        "SPLITTING DATASET TO TRAINING, VALIDATION AND TESTING"
      ]
    },
    {
      "cell_type": "code",
      "execution_count": 42,
      "metadata": {
        "id": "BmTCAggbLBIg"
      },
      "outputs": [],
      "source": [
        "y_train = finaldf['price']\n",
        "X_train = finaldf.drop(['price'], axis=1)\n",
        "X_train, X_test, y_train, y_test = train_test_split(X_train, y_train, test_size=0.2, random_state=0)\n",
        "X_train, X_val, y_train, y_val= train_test_split(X_train, y_train, test_size=0.2, random_state=0)\n",
        "scaler = StandardScaler()\n",
        "X_train = pd.DataFrame(scaler.fit_transform(X_train), columns = X_train.columns)\n",
        "X_test = pd.DataFrame(scaler.fit_transform(X_test), columns = X_test.columns)\n",
        "X_val = pd.DataFrame(scaler.fit_transform(X_val), columns = X_val.columns)\n",
        "X_train11 = []\n",
        "y_train11 = []\n",
        "X_train11, y_train11 = np.array(X_train), np.array(y_train)\n",
        "X_train11 = np.reshape(X_train11, (X_train11.shape[0], X_train11.shape[1], 1))\n",
        "X_test11 = []\n",
        "y_test11 = []\n",
        "X_test11, y_test11 = np.array(X_test), np.array(y_test)\n",
        "X_test11 = np.reshape(X_test11, (X_test11.shape[0], X_test11.shape[1], 1))\n",
        "X_val11 = []\n",
        "y_val11 = []\n",
        "X_val11, y_val11 = np.array(X_val), np.array(y_val)\n",
        "X_val11 = np.reshape(X_val11, (X_val11.shape[0], X_val11.shape[1], 1))"
      ]
    },
    {
      "attachments": {},
      "cell_type": "markdown",
      "metadata": {
        "id": "9tgiRhOtLEKl"
      },
      "source": [
        "CREATING THE MODEL"
      ]
    },
    {
      "cell_type": "code",
      "execution_count": 43,
      "metadata": {
        "colab": {
          "base_uri": "https://localhost:8080/"
        },
        "id": "s1Fy82WRKqjk",
        "outputId": "4c625d63-c51a-4881-ac53-f87b06bfe5ed"
      },
      "outputs": [
        {
          "name": "stdout",
          "output_type": "stream",
          "text": [
            "Model: \"sequential\"\n",
            "_________________________________________________________________\n",
            " Layer (type)                Output Shape              Param #   \n",
            "=================================================================\n",
            " lstm (LSTM)                 (None, 10, 128)           66560     \n",
            "                                                                 \n",
            " dropout (Dropout)           (None, 10, 128)           0         \n",
            "                                                                 \n",
            " lstm_1 (LSTM)               (None, 64)                49408     \n",
            "                                                                 \n",
            " dense (Dense)               (None, 32)                2080      \n",
            "                                                                 \n",
            " dense_1 (Dense)             (None, 1)                 33        \n",
            "                                                                 \n",
            "=================================================================\n",
            "Total params: 118,081\n",
            "Trainable params: 118,081\n",
            "Non-trainable params: 0\n",
            "_________________________________________________________________\n"
          ]
        }
      ],
      "source": [
        "model3 = Sequential()\n",
        "model3.add(LSTM(units=128,return_sequences=True,input_shape=(X_train11.shape[1], 1)))\n",
        "model3.add(Dropout(0.2))\n",
        "model3.add(LSTM(64, return_sequences=False))\n",
        "model3.add(Dense(32))\n",
        "model3.add(Dense(1))\n",
        "model3.summary()"
      ]
    },
    {
      "cell_type": "code",
      "execution_count": 44,
      "metadata": {
        "colab": {
          "base_uri": "https://localhost:8080/"
        },
        "id": "anmVvFpeKJeU",
        "outputId": "f044fe89-9004-431f-be85-eb4d42a0f2a5"
      },
      "outputs": [
        {
          "name": "stdout",
          "output_type": "stream",
          "text": [
            "Epoch 1/100\n",
            "1673/1673 [==============================] - 21s 7ms/step - loss: 0.5872 - val_loss: 0.5259\n",
            "Epoch 2/100\n",
            "1673/1673 [==============================] - 12s 7ms/step - loss: 0.5023 - val_loss: 0.4883\n",
            "Epoch 3/100\n",
            "1673/1673 [==============================] - 12s 7ms/step - loss: 0.4713 - val_loss: 0.4585\n",
            "Epoch 4/100\n",
            "1673/1673 [==============================] - 12s 7ms/step - loss: 0.4506 - val_loss: 0.4492\n",
            "Epoch 5/100\n",
            "1673/1673 [==============================] - 12s 7ms/step - loss: 0.4393 - val_loss: 0.4317\n",
            "Epoch 6/100\n",
            "1673/1673 [==============================] - 12s 7ms/step - loss: 0.4286 - val_loss: 0.4200\n",
            "Epoch 7/100\n",
            "1673/1673 [==============================] - 12s 7ms/step - loss: 0.4189 - val_loss: 0.4163\n",
            "Epoch 8/100\n",
            "1673/1673 [==============================] - 12s 7ms/step - loss: 0.4104 - val_loss: 0.4113\n",
            "Epoch 9/100\n",
            "1673/1673 [==============================] - 12s 7ms/step - loss: 0.4024 - val_loss: 0.3975\n",
            "Epoch 10/100\n",
            "1673/1673 [==============================] - 12s 7ms/step - loss: 0.3949 - val_loss: 0.3901\n",
            "Epoch 11/100\n",
            "1673/1673 [==============================] - 12s 7ms/step - loss: 0.3886 - val_loss: 0.3879\n",
            "Epoch 12/100\n",
            "1673/1673 [==============================] - 12s 7ms/step - loss: 0.3822 - val_loss: 0.3922\n",
            "Epoch 13/100\n",
            "1673/1673 [==============================] - 12s 7ms/step - loss: 0.3760 - val_loss: 0.3831\n",
            "Epoch 14/100\n",
            "1673/1673 [==============================] - 12s 7ms/step - loss: 0.3707 - val_loss: 0.3807\n",
            "Epoch 15/100\n",
            "1673/1673 [==============================] - 12s 7ms/step - loss: 0.3648 - val_loss: 0.3766\n",
            "Epoch 16/100\n",
            "1673/1673 [==============================] - 13s 8ms/step - loss: 0.3609 - val_loss: 0.3718\n",
            "Epoch 17/100\n",
            "1673/1673 [==============================] - 12s 7ms/step - loss: 0.3573 - val_loss: 0.3653\n",
            "Epoch 18/100\n",
            "1673/1673 [==============================] - 13s 8ms/step - loss: 0.3535 - val_loss: 0.3717\n",
            "Epoch 19/100\n",
            "1673/1673 [==============================] - 16s 10ms/step - loss: 0.3487 - val_loss: 0.3666\n",
            "Epoch 20/100\n",
            "1673/1673 [==============================] - 12s 7ms/step - loss: 0.3450 - val_loss: 0.3673\n",
            "Epoch 21/100\n",
            "1673/1673 [==============================] - 14s 8ms/step - loss: 0.3409 - val_loss: 0.3543\n",
            "Epoch 22/100\n",
            "1673/1673 [==============================] - 12s 7ms/step - loss: 0.3368 - val_loss: 0.3565\n",
            "Epoch 23/100\n",
            "1673/1673 [==============================] - 12s 7ms/step - loss: 0.3344 - val_loss: 0.3571\n",
            "Epoch 24/100\n",
            "1673/1673 [==============================] - 12s 7ms/step - loss: 0.3319 - val_loss: 0.3509\n",
            "Epoch 25/100\n",
            "1673/1673 [==============================] - 12s 7ms/step - loss: 0.3285 - val_loss: 0.3534\n",
            "Epoch 26/100\n",
            "1673/1673 [==============================] - 12s 7ms/step - loss: 0.3244 - val_loss: 0.3543\n",
            "Epoch 27/100\n",
            "1673/1673 [==============================] - 13s 8ms/step - loss: 0.3233 - val_loss: 0.3473\n",
            "Epoch 28/100\n",
            "1673/1673 [==============================] - 12s 7ms/step - loss: 0.3208 - val_loss: 0.3498\n",
            "Epoch 29/100\n",
            "1673/1673 [==============================] - 12s 7ms/step - loss: 0.3186 - val_loss: 0.3436\n",
            "Epoch 30/100\n",
            "1673/1673 [==============================] - 12s 7ms/step - loss: 0.3146 - val_loss: 0.3452\n",
            "Epoch 31/100\n",
            "1673/1673 [==============================] - 12s 7ms/step - loss: 0.3123 - val_loss: 0.3430\n",
            "Epoch 32/100\n",
            "1673/1673 [==============================] - 12s 7ms/step - loss: 0.3107 - val_loss: 0.3462\n",
            "Epoch 33/100\n",
            "1673/1673 [==============================] - 13s 8ms/step - loss: 0.3091 - val_loss: 0.3390\n",
            "Epoch 34/100\n",
            "1673/1673 [==============================] - 12s 7ms/step - loss: 0.3064 - val_loss: 0.3416\n",
            "Epoch 35/100\n",
            "1673/1673 [==============================] - 12s 7ms/step - loss: 0.3044 - val_loss: 0.3433\n",
            "Epoch 36/100\n",
            "1673/1673 [==============================] - 12s 7ms/step - loss: 0.3017 - val_loss: 0.3361\n",
            "Epoch 37/100\n",
            "1673/1673 [==============================] - 12s 7ms/step - loss: 0.3001 - val_loss: 0.3381\n",
            "Epoch 38/100\n",
            "1673/1673 [==============================] - 12s 7ms/step - loss: 0.3003 - val_loss: 0.3342\n",
            "Epoch 39/100\n",
            "1673/1673 [==============================] - 12s 7ms/step - loss: 0.2966 - val_loss: 0.3337\n",
            "Epoch 40/100\n",
            "1673/1673 [==============================] - 12s 7ms/step - loss: 0.2955 - val_loss: 0.3372\n",
            "Epoch 41/100\n",
            "1673/1673 [==============================] - 12s 7ms/step - loss: 0.2940 - val_loss: 0.3359\n",
            "Epoch 42/100\n",
            "1673/1673 [==============================] - 12s 7ms/step - loss: 0.2918 - val_loss: 0.3366\n",
            "Epoch 43/100\n",
            "1673/1673 [==============================] - 12s 7ms/step - loss: 0.2895 - val_loss: 0.3287\n",
            "Epoch 44/100\n",
            "1673/1673 [==============================] - 12s 7ms/step - loss: 0.2888 - val_loss: 0.3290\n",
            "Epoch 45/100\n",
            "1673/1673 [==============================] - 12s 7ms/step - loss: 0.2874 - val_loss: 0.3316\n",
            "Epoch 46/100\n",
            "1673/1673 [==============================] - 12s 7ms/step - loss: 0.2848 - val_loss: 0.3305\n",
            "Epoch 47/100\n",
            "1673/1673 [==============================] - 12s 7ms/step - loss: 0.2825 - val_loss: 0.3318\n",
            "Epoch 48/100\n",
            "1673/1673 [==============================] - 12s 7ms/step - loss: 0.2830 - val_loss: 0.3276\n",
            "Epoch 49/100\n",
            "1673/1673 [==============================] - 12s 7ms/step - loss: 0.2810 - val_loss: 0.3315\n",
            "Epoch 50/100\n",
            "1673/1673 [==============================] - 13s 8ms/step - loss: 0.2796 - val_loss: 0.3306\n",
            "Epoch 51/100\n",
            "1673/1673 [==============================] - 12s 7ms/step - loss: 0.2788 - val_loss: 0.3285\n",
            "Epoch 52/100\n",
            "1673/1673 [==============================] - 12s 7ms/step - loss: 0.2770 - val_loss: 0.3258\n",
            "Epoch 53/100\n",
            "1673/1673 [==============================] - 12s 7ms/step - loss: 0.2753 - val_loss: 0.3265\n",
            "Epoch 54/100\n",
            "1673/1673 [==============================] - 13s 7ms/step - loss: 0.2747 - val_loss: 0.3284\n",
            "Epoch 55/100\n",
            "1673/1673 [==============================] - 12s 7ms/step - loss: 0.2726 - val_loss: 0.3242\n",
            "Epoch 56/100\n",
            "1673/1673 [==============================] - 14s 8ms/step - loss: 0.2714 - val_loss: 0.3238\n",
            "Epoch 57/100\n",
            "1673/1673 [==============================] - 13s 8ms/step - loss: 0.2686 - val_loss: 0.3267\n",
            "Epoch 58/100\n",
            "1673/1673 [==============================] - 12s 7ms/step - loss: 0.2704 - val_loss: 0.3251\n",
            "Epoch 59/100\n",
            "1673/1673 [==============================] - 12s 7ms/step - loss: 0.2681 - val_loss: 0.3224\n",
            "Epoch 60/100\n",
            "1673/1673 [==============================] - 12s 7ms/step - loss: 0.2681 - val_loss: 0.3235\n",
            "Epoch 61/100\n",
            "1673/1673 [==============================] - 12s 7ms/step - loss: 0.2659 - val_loss: 0.3239\n",
            "Epoch 62/100\n",
            "1673/1673 [==============================] - 12s 7ms/step - loss: 0.2654 - val_loss: 0.3238\n",
            "Epoch 63/100\n",
            "1673/1673 [==============================] - 12s 7ms/step - loss: 0.2638 - val_loss: 0.3254\n",
            "Epoch 64/100\n",
            "1673/1673 [==============================] - 12s 7ms/step - loss: 0.2640 - val_loss: 0.3259\n",
            "Epoch 65/100\n",
            "1673/1673 [==============================] - 12s 7ms/step - loss: 0.2614 - val_loss: 0.3224\n",
            "Epoch 66/100\n",
            "1673/1673 [==============================] - 12s 7ms/step - loss: 0.2610 - val_loss: 0.3195\n",
            "Epoch 67/100\n",
            "1673/1673 [==============================] - 13s 8ms/step - loss: 0.2601 - val_loss: 0.3226\n",
            "Epoch 68/100\n",
            "1673/1673 [==============================] - 12s 7ms/step - loss: 0.2589 - val_loss: 0.3199\n",
            "Epoch 69/100\n",
            "1673/1673 [==============================] - 12s 7ms/step - loss: 0.2584 - val_loss: 0.3210\n",
            "Epoch 70/100\n",
            "1673/1673 [==============================] - 12s 7ms/step - loss: 0.2573 - val_loss: 0.3222\n",
            "Epoch 71/100\n",
            "1673/1673 [==============================] - 17s 10ms/step - loss: 0.2565 - val_loss: 0.3228\n",
            "Epoch 72/100\n",
            "1673/1673 [==============================] - 15s 9ms/step - loss: 0.2565 - val_loss: 0.3188\n",
            "Epoch 73/100\n",
            "1673/1673 [==============================] - 13s 8ms/step - loss: 0.2546 - val_loss: 0.3214\n",
            "Epoch 74/100\n",
            "1673/1673 [==============================] - 12s 7ms/step - loss: 0.2552 - val_loss: 0.3167\n",
            "Epoch 75/100\n",
            "1673/1673 [==============================] - 12s 7ms/step - loss: 0.2538 - val_loss: 0.3195\n",
            "Epoch 76/100\n",
            "1673/1673 [==============================] - 12s 7ms/step - loss: 0.2527 - val_loss: 0.3188\n",
            "Epoch 77/100\n",
            "1673/1673 [==============================] - 12s 7ms/step - loss: 0.2521 - val_loss: 0.3197\n",
            "Epoch 78/100\n",
            "1673/1673 [==============================] - 13s 8ms/step - loss: 0.2509 - val_loss: 0.3213\n",
            "Epoch 79/100\n",
            "1673/1673 [==============================] - 12s 7ms/step - loss: 0.2516 - val_loss: 0.3179\n",
            "Epoch 80/100\n",
            "1673/1673 [==============================] - 12s 7ms/step - loss: 0.2496 - val_loss: 0.3185\n",
            "Epoch 81/100\n",
            "1673/1673 [==============================] - 12s 7ms/step - loss: 0.2490 - val_loss: 0.3181\n",
            "Epoch 82/100\n",
            "1673/1673 [==============================] - 14s 8ms/step - loss: 0.2470 - val_loss: 0.3162\n",
            "Epoch 83/100\n",
            "1673/1673 [==============================] - 13s 8ms/step - loss: 0.2474 - val_loss: 0.3183\n",
            "Epoch 84/100\n",
            "1673/1673 [==============================] - 13s 7ms/step - loss: 0.2464 - val_loss: 0.3176\n",
            "Epoch 85/100\n",
            "1673/1673 [==============================] - 12s 7ms/step - loss: 0.2454 - val_loss: 0.3178\n",
            "Epoch 86/100\n",
            "1673/1673 [==============================] - 12s 7ms/step - loss: 0.2457 - val_loss: 0.3179\n",
            "Epoch 87/100\n",
            "1673/1673 [==============================] - 12s 7ms/step - loss: 0.2447 - val_loss: 0.3163\n",
            "Epoch 88/100\n",
            "1673/1673 [==============================] - 12s 7ms/step - loss: 0.2432 - val_loss: 0.3156\n",
            "Epoch 89/100\n",
            "1673/1673 [==============================] - 12s 7ms/step - loss: 0.2435 - val_loss: 0.3160\n",
            "Epoch 90/100\n",
            "1673/1673 [==============================] - 12s 7ms/step - loss: 0.2415 - val_loss: 0.3161\n",
            "Epoch 91/100\n",
            "1673/1673 [==============================] - 12s 7ms/step - loss: 0.2424 - val_loss: 0.3164\n",
            "Epoch 92/100\n",
            "1673/1673 [==============================] - 12s 7ms/step - loss: 0.2407 - val_loss: 0.3147\n",
            "Epoch 93/100\n",
            "1673/1673 [==============================] - 12s 7ms/step - loss: 0.2406 - val_loss: 0.3158\n",
            "Epoch 94/100\n",
            "1673/1673 [==============================] - 12s 7ms/step - loss: 0.2399 - val_loss: 0.3146\n",
            "Epoch 95/100\n",
            "1673/1673 [==============================] - 12s 7ms/step - loss: 0.2402 - val_loss: 0.3138\n",
            "Epoch 96/100\n",
            "1673/1673 [==============================] - 12s 7ms/step - loss: 0.2390 - val_loss: 0.3141\n",
            "Epoch 97/100\n",
            "1673/1673 [==============================] - 12s 7ms/step - loss: 0.2383 - val_loss: 0.3164\n",
            "Epoch 98/100\n",
            "1673/1673 [==============================] - 12s 7ms/step - loss: 0.2370 - val_loss: 0.3142\n",
            "Epoch 99/100\n",
            "1673/1673 [==============================] - 12s 7ms/step - loss: 0.2363 - val_loss: 0.3144\n",
            "Epoch 100/100\n",
            "1673/1673 [==============================] - 12s 7ms/step - loss: 0.2362 - val_loss: 0.3169\n"
          ]
        }
      ],
      "source": [
        "model3.compile(optimizer='adam',loss='mean_absolute_error')\n",
        "hist1=model3.fit(X_train11,y_train11,epochs=100,batch_size=32, validation_data=(X_val11,y_val11), validation_batch_size=32)"
      ]
    },
    {
      "attachments": {},
      "cell_type": "markdown",
      "metadata": {
        "id": "71EmL1HpLTO_"
      },
      "source": [
        "GENERATING VALIDATION LOSS GRAPH"
      ]
    },
    {
      "cell_type": "code",
      "execution_count": 45,
      "metadata": {
        "colab": {
          "base_uri": "https://localhost:8080/",
          "height": 295
        },
        "id": "BQbvlMLyLYzc",
        "outputId": "c3ca8d84-d4d8-4e8e-cfcd-cee96ebef721"
      },
      "outputs": [
        {
          "data": {
            "image/png": "[encoded data removed]",
            "text/plain": [
              "<Figure size 432x288 with 1 Axes>"
            ]
          },
          "metadata": {
            "needs_background": "light"
          },
          "output_type": "display_data"
        }
      ],
      "source": [
        "loss_train = hist1.history['loss']\n",
        "loss_val = hist1.history['val_loss']\n",
        "epochs = range(0,100)\n",
        "plt.plot(epochs, loss_train, 'g', label='Training loss')\n",
        "plt.plot(epochs, loss_val, 'b', label='validation loss')\n",
        "plt.title('Training and Validation loss')\n",
        "plt.xlabel('Epochs')\n",
        "plt.ylabel('Loss')\n",
        "plt.legend()\n",
        "plt.show()"
      ]
    },
    {
      "attachments": {},
      "cell_type": "markdown",
      "metadata": {
        "id": "-alivf-3LcSj"
      },
      "source": [
        "TRAINING FOR 93 EPOCHS"
      ]
    },
    {
      "cell_type": "code",
      "execution_count": 47,
      "metadata": {
        "colab": {
          "base_uri": "https://localhost:8080/"
        },
        "id": "SXHladUqLpF_",
        "outputId": "a408be42-e760-429f-d6b3-6ba5473b2351"
      },
      "outputs": [
        {
          "name": "stdout",
          "output_type": "stream",
          "text": [
            "523/523 [==============================] - 4s 5ms/step\n"
          ]
        }
      ],
      "source": [
        "y_predictedLSTM1 = model3.predict(X_test11)"
      ]
    },
    {
      "attachments": {},
      "cell_type": "markdown",
      "metadata": {
        "id": "en_ZRQQXLroM"
      },
      "source": [
        "PERFORMANCE METRICS"
      ]
    },
    {
      "cell_type": "code",
      "execution_count": 48,
      "metadata": {
        "colab": {
          "base_uri": "https://localhost:8080/"
        },
        "id": "7zsxcHRcLrRz",
        "outputId": "513a0dd4-b350-495a-848c-c6f8c13fa19f"
      },
      "outputs": [
        {
          "name": "stdout",
          "output_type": "stream",
          "text": [
            "R^2 :  0.6741660599264028\n",
            "MAE : 0.31218352167286845\n",
            "Accuracy:  0.6878164783271316\n",
            "RMSE: 0.5669542561475936\n"
          ]
        }
      ],
      "source": [
        "print(\"R^2 : \", r2_score(y_test11, y_predictedLSTM1))\n",
        "print(\"MAE :\", mean_absolute_error(y_test11,y_predictedLSTM1))\n",
        "print(\"Accuracy: \", 1-mean_absolute_error(y_test11,y_predictedLSTM1))\n",
        "print(\"RMSE:\",np.sqrt(mean_squared_error(y_test11, y_predictedLSTM1)))"
      ]
    },
    {
      "attachments": {},
      "cell_type": "markdown",
      "metadata": {
        "id": "GLhqOnLTJ6CH"
      },
      "source": [
        "## **LIGHT GRADIENT BOOSTING MACHINE**"
      ]
    },
    {
      "cell_type": "code",
      "execution_count": 49,
      "metadata": {
        "colab": {
          "base_uri": "https://localhost:8080/"
        },
        "id": "mDU0jCuaJ5xk",
        "outputId": "a5f04d07-ebd9-4826-856a-6903e93a3af9"
      },
      "outputs": [
        {
          "name": "stdout",
          "output_type": "stream",
          "text": [
            "Training until validation scores don't improve for 8000 rounds.\n",
            "[500]\tvalid_0's rmse: 0.575919\n",
            "[1000]\tvalid_0's rmse: 0.564958\n",
            "[1500]\tvalid_0's rmse: 0.564952\n",
            "[2000]\tvalid_0's rmse: 0.564952\n",
            "[2500]\tvalid_0's rmse: 0.564952\n",
            "[3000]\tvalid_0's rmse: 0.564952\n",
            "[3500]\tvalid_0's rmse: 0.564952\n",
            "[4000]\tvalid_0's rmse: 0.564952\n",
            "[4500]\tvalid_0's rmse: 0.564952\n",
            "[5000]\tvalid_0's rmse: 0.564952\n",
            "[5500]\tvalid_0's rmse: 0.564952\n",
            "[6000]\tvalid_0's rmse: 0.564952\n",
            "[6500]\tvalid_0's rmse: 0.564952\n",
            "[7000]\tvalid_0's rmse: 0.564952\n",
            "[7500]\tvalid_0's rmse: 0.564952\n",
            "[8000]\tvalid_0's rmse: 0.564952\n",
            "[8500]\tvalid_0's rmse: 0.564952\n",
            "Early stopping, best iteration is:\n",
            "[954]\tvalid_0's rmse: 0.564902\n"
          ]
        }
      ],
      "source": [
        "train_set = lgb.Dataset(X_train, y_train, silent=False)\n",
        "valid_set = lgb.Dataset(X_test, y_test, silent=False)\n",
        "params = {\n",
        "        'boosting_type':'gbdt',\n",
        "        'objective': 'regression',\n",
        "        'num_leaves': 160,#31,\n",
        "        'learning_rate': 0.01,\n",
        "        'max_depth': -1,\n",
        "        'subsample': 0.8,\n",
        "        'bagging_fraction' : 0.75,\n",
        "        'max_bin' : 5000,\n",
        "        'bagging_freq': 20,\n",
        "        'colsample_bytree': 0.6,\n",
        "        'metric': 'rmse',\n",
        "        'min_split_gain': 0.5,\n",
        "        'min_child_weight': 1,\n",
        "        'min_child_samples': 10,\n",
        "        'scale_pos_weight':1,\n",
        "        'zero_as_missing': False,\n",
        "        'seed':0    \n",
        "    }\n",
        "modelL = lgb.train(params, train_set = train_set, num_boost_round=10000,\n",
        "                   early_stopping_rounds=8000,verbose_eval=500, valid_sets=valid_set)"
      ]
    },
    {
      "cell_type": "code",
      "execution_count": 50,
      "metadata": {
        "id": "2uy6ijXxJ_MV"
      },
      "outputs": [],
      "source": [
        "y_predictedLGB = modelL.predict(X_test)"
      ]
    },
    {
      "attachments": {},
      "cell_type": "markdown",
      "metadata": {
        "id": "YmqEr-P9KBLZ"
      },
      "source": [
        "PERFORMANCE METRICS"
      ]
    },
    {
      "cell_type": "code",
      "execution_count": 51,
      "metadata": {
        "colab": {
          "base_uri": "https://localhost:8080/"
        },
        "id": "HzV8_DxpKD5T",
        "outputId": "768a8d3b-63bf-400f-cc39-55aa8145b2db"
      },
      "outputs": [
        {
          "name": "stdout",
          "output_type": "stream",
          "text": [
            "R^2 :  0.6765205173304519\n",
            "MAE : 0.3668581173691729\n",
            "Accuracy: 0.633141882630827\n",
            "RMSE: 0.5649021528266371\n"
          ]
        }
      ],
      "source": [
        "print(\"R^2 : \", r2_score(y_test, y_predictedLGB))\n",
        "print(\"MAE :\", mean_absolute_error(y_test,y_predictedLGB))\n",
        "print(\"Accuracy:\", 1-mean_absolute_error(y_test,y_predictedLGB))\n",
        "print(\"RMSE:\",np.sqrt(mean_squared_error(y_test, y_predictedLGB)))"
      ]
    },
    {
      "attachments": {},
      "cell_type": "markdown",
      "metadata": {
        "id": "5lsi6qPFJiNh"
      },
      "source": [
        "## **XGBOOST**"
      ]
    },
    {
      "cell_type": "code",
      "execution_count": 52,
      "metadata": {
        "colab": {
          "base_uri": "https://localhost:8080/"
        },
        "id": "_km2UblJJh9G",
        "outputId": "05d63f46-ff98-436e-d513-b22077503cf9"
      },
      "outputs": [
        {
          "name": "stdout",
          "output_type": "stream",
          "text": [
            "[02:14:09] WARNING: /workspace/src/objective/regression_obj.cu:152: reg:linear is now deprecated in favor of reg:squarederror.\n",
            "Best score: 0.700\n",
            "Best parameters set: {'learning_rate': 0.1, 'max_depth': 7, 'n_estimators': 140, 'reg_lambda': 0.5}\n"
          ]
        }
      ],
      "source": [
        "xgb_clf = xgb.XGBRegressor({'objective': 'reg:squarederror'}) \n",
        "parameters = {'n_estimators': [60, 100, 120, 140], \n",
        "              'learning_rate': [0.01, 0.1],\n",
        "              'max_depth': [5, 7],\n",
        "              'reg_lambda': [0.5]}\n",
        "xgb_reg = GridSearchCV(estimator=xgb_clf, param_grid=parameters, cv=5, n_jobs=-1).fit(X_train, y_train)\n",
        "print(\"Best score: %0.3f\" % xgb_reg.best_score_)\n",
        "print(\"Best parameters set:\", xgb_reg.best_params_)"
      ]
    },
    {
      "cell_type": "code",
      "execution_count": 53,
      "metadata": {
        "id": "D8ABsn0FL4aG"
      },
      "outputs": [],
      "source": [
        "y_predictedXGB = xgb_reg.predict(X_test)"
      ]
    },
    {
      "cell_type": "code",
      "execution_count": 54,
      "metadata": {
        "colab": {
          "base_uri": "https://localhost:8080/"
        },
        "id": "jB7pArYKL5CF",
        "outputId": "e1c65050-5da5-4613-8934-04bc23f79193"
      },
      "outputs": [
        {
          "name": "stdout",
          "output_type": "stream",
          "text": [
            "R^2 :  0.6649887857539656\n",
            "MAE : 0.36974232719181993\n",
            "Accuracy: 0.6302576728081801\n",
            "RMSE: 0.5748830875614813\n"
          ]
        }
      ],
      "source": [
        "print(\"R^2 : \", r2_score(y_test, y_predictedXGB))\n",
        "print(\"MAE :\", mean_absolute_error(y_test,y_predictedXGB))\n",
        "print(\"Accuracy:\", 1-mean_absolute_error(y_test,y_predictedXGB))\n",
        "print(\"RMSE:\",np.sqrt(mean_squared_error(y_test, y_predictedXGB)))"
      ]
    },
    {
      "cell_type": "code",
      "execution_count": null,
      "metadata": {
        "id": "s82o_FFfWLcB"
      },
      "outputs": [],
      "source": []
    }
  ],
  "metadata": {
    "accelerator": "GPU",
    "colab": {
      "provenance": []
    },
    "gpuClass": "standard",
    "kernelspec": {
      "display_name": "Python 3",
      "name": "python3"
    },
    "language_info": {
      "name": "python"
    }
  },
  "nbformat": 4,
  "nbformat_minor": 0
}
